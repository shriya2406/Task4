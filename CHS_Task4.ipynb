{
 "cells": [
  {
   "cell_type": "code",
   "execution_count": 1,
   "id": "882e2aef-07f3-47c6-94e5-40e4e92d895c",
   "metadata": {},
   "outputs": [],
   "source": [
    "import pyspark"
   ]
  },
  {
   "cell_type": "code",
   "execution_count": 2,
   "id": "16aca4a8-1f8b-48a9-a351-d205af99ecec",
   "metadata": {},
   "outputs": [],
   "source": [
    "from pyspark.sql import SparkSession"
   ]
  },
  {
   "cell_type": "code",
   "execution_count": 3,
   "id": "b83e99ed-731c-4ba0-a065-4d2103d09eb6",
   "metadata": {},
   "outputs": [],
   "source": [
    "spark=SparkSession.builder.appName('Practise').getOrCreate()"
   ]
  },
  {
   "cell_type": "code",
   "execution_count": 4,
   "id": "1514b6b3-cc95-483a-874e-5a4df159a8b3",
   "metadata": {},
   "outputs": [
    {
     "name": "stdout",
     "output_type": "stream",
     "text": [
      "The history saving thread hit an unexpected error (OperationalError('database is locked')).History will not be written to the database.\n"
     ]
    },
    {
     "data": {
      "text/html": [
       "\n",
       "            <div>\n",
       "                <p><b>SparkSession - in-memory</b></p>\n",
       "                \n",
       "        <div>\n",
       "            <p><b>SparkContext</b></p>\n",
       "\n",
       "            <p><a href=\"http://10.100.187.86:4042\">Spark UI</a></p>\n",
       "\n",
       "            <dl>\n",
       "              <dt>Version</dt>\n",
       "                <dd><code>v3.5.1</code></dd>\n",
       "              <dt>Master</dt>\n",
       "                <dd><code>local[*]</code></dd>\n",
       "              <dt>AppName</dt>\n",
       "                <dd><code>Practise</code></dd>\n",
       "            </dl>\n",
       "        </div>\n",
       "        \n",
       "            </div>\n",
       "        "
      ],
      "text/plain": [
       "<pyspark.sql.session.SparkSession at 0x1ff2454e820>"
      ]
     },
     "execution_count": 4,
     "metadata": {},
     "output_type": "execute_result"
    }
   ],
   "source": [
    "spark"
   ]
  },
  {
   "cell_type": "code",
   "execution_count": 5,
   "id": "d020afdb-4dab-4027-8e77-2adeb3bd40db",
   "metadata": {},
   "outputs": [],
   "source": [
    "df_pyspark=spark.read.option('header','true').csv('C:/Users/Lenovo/Desktop/PySpark_Task_4/SaleData.csv',inferSchema=True)"
   ]
  },
  {
   "cell_type": "code",
   "execution_count": 6,
   "id": "5a08457f-bf42-4ad3-b5ec-10757483c24f",
   "metadata": {},
   "outputs": [
    {
     "name": "stdout",
     "output_type": "stream",
     "text": [
      "+---------+-------+-------+---------+------------+-----+----------+\n",
      "|OrderDate| Region|Manager| SalesMan|        Item|Units|Unit_price|\n",
      "+---------+-------+-------+---------+------------+-----+----------+\n",
      "|   1/6/18|   East| Martha|Alexander|  Television| 95.0|    1198.0|\n",
      "|  1/23/18|Central|Hermann|   Shelli|Home Theater| 50.0|     500.0|\n",
      "|   2/9/18|Central|Hermann|     Luis|  Television| 36.0|    1198.0|\n",
      "|  2/26/18|Central|Timothy|    David|  Cell Phone| 27.0|     225.0|\n",
      "|  3/15/18|   West|Timothy|  Stephen|  Television| 56.0|    1198.0|\n",
      "|   4/1/18|   East| Martha|Alexander|Home Theater| 60.0|     500.0|\n",
      "|  4/18/18|Central|   NULL|   Steven|  Television| 75.0|    1198.0|\n",
      "|   5/5/18|Central|Hermann|     Luis|  Television| 90.0|    1198.0|\n",
      "|  5/22/18|   West|Douglas|  Michael|  Television| 32.0|    1198.0|\n",
      "|   6/8/18|   East| Martha|Alexander|Home Theater| 60.0|     500.0|\n",
      "|  6/25/18|Central|Hermann|    Sigal|  Television| 90.0|    1198.0|\n",
      "|  7/12/18|   East| Martha|    Diana|Home Theater| 29.0|     500.0|\n",
      "|  7/29/18|   East|Douglas|    Karen|Home Theater| 81.0|     500.0|\n",
      "|  8/15/18|   East| Martha|Alexander|  Television| 35.0|    1198.0|\n",
      "|   9/1/18|Central|Douglas|     John|        Desk|  2.0|     125.0|\n",
      "|  9/18/18|   East| Martha|     NULL| Video Games| 16.0|      58.5|\n",
      "|  10/5/18|Central|Hermann|    Sigal|Home Theater| 28.0|     500.0|\n",
      "| 10/22/18|   East| Martha|     NULL|  Cell Phone| 64.0|     225.0|\n",
      "|  11/8/18|   East|Douglas|    Karen|  Cell Phone| 15.0|     225.0|\n",
      "| 11/25/18|Central|   NULL|   Shelli| Video Games| 96.0|      58.5|\n",
      "+---------+-------+-------+---------+------------+-----+----------+\n",
      "only showing top 20 rows\n",
      "\n"
     ]
    }
   ],
   "source": [
    "df_pyspark.show()"
   ]
  },
  {
   "cell_type": "code",
   "execution_count": 7,
   "id": "3c8dc4dc-90da-4839-8c7d-2b6969f7fd31",
   "metadata": {},
   "outputs": [
    {
     "name": "stdout",
     "output_type": "stream",
     "text": [
      "+---------+-------+-------+---------+------------+-----+----------+\n",
      "|OrderDate| Region|Manager| SalesMan|        Item|Units|Unit_price|\n",
      "+---------+-------+-------+---------+------------+-----+----------+\n",
      "|   1/6/18|   East| Martha|Alexander|  Television| 95.0|    1198.0|\n",
      "|  1/23/18|Central|Hermann|   Shelli|Home Theater| 50.0|     500.0|\n",
      "|   2/9/18|Central|Hermann|     Luis|  Television| 36.0|    1198.0|\n",
      "|  2/26/18|Central|Timothy|    David|  Cell Phone| 27.0|     225.0|\n",
      "|  3/15/18|   West|Timothy|  Stephen|  Television| 56.0|    1198.0|\n",
      "|   4/1/18|   East| Martha|Alexander|Home Theater| 60.0|     500.0|\n",
      "|  4/18/18|Central| Others|   Steven|  Television| 75.0|    1198.0|\n",
      "|   5/5/18|Central|Hermann|     Luis|  Television| 90.0|    1198.0|\n",
      "|  5/22/18|   West|Douglas|  Michael|  Television| 32.0|    1198.0|\n",
      "|   6/8/18|   East| Martha|Alexander|Home Theater| 60.0|     500.0|\n",
      "|  6/25/18|Central|Hermann|    Sigal|  Television| 90.0|    1198.0|\n",
      "|  7/12/18|   East| Martha|    Diana|Home Theater| 29.0|     500.0|\n",
      "|  7/29/18|   East|Douglas|    Karen|Home Theater| 81.0|     500.0|\n",
      "|  8/15/18|   East| Martha|Alexander|  Television| 35.0|    1198.0|\n",
      "|   9/1/18|Central|Douglas|     John|        Desk|  2.0|     125.0|\n",
      "|  9/18/18|   East| Martha|   Others| Video Games| 16.0|      58.5|\n",
      "|  10/5/18|Central|Hermann|    Sigal|Home Theater| 28.0|     500.0|\n",
      "| 10/22/18|   East| Martha|   Others|  Cell Phone| 64.0|     225.0|\n",
      "|  11/8/18|   East|Douglas|    Karen|  Cell Phone| 15.0|     225.0|\n",
      "| 11/25/18|Central| Others|   Shelli| Video Games| 96.0|      58.5|\n",
      "+---------+-------+-------+---------+------------+-----+----------+\n",
      "only showing top 20 rows\n",
      "\n"
     ]
    }
   ],
   "source": [
    "df_pyspark=df_pyspark.na.fill('Others')\n",
    "df_pyspark.show()"
   ]
  },
  {
   "cell_type": "code",
   "execution_count": 8,
   "id": "c8c0ca6e-3cc9-4432-a40b-d57161db5bbd",
   "metadata": {},
   "outputs": [
    {
     "name": "stdout",
     "output_type": "stream",
     "text": [
      "Duplicates were present.Removed Duplicates\n",
      "+---------+-------+-------+---------+------------+-----+----------+\n",
      "|OrderDate| Region|Manager| SalesMan|        Item|Units|Unit_price|\n",
      "+---------+-------+-------+---------+------------+-----+----------+\n",
      "| 12/29/18|   East|Douglas|    Karen| Video Games| 74.0|      58.5|\n",
      "| 12/12/18|Central|Douglas|     John|  Television| 67.0|    1198.0|\n",
      "|  6/17/19|Central|Hermann|   Shelli|        Desk|  5.0|     125.0|\n",
      "|   9/1/18|Central|Douglas|     John|        Desk|  2.0|     125.0|\n",
      "|   4/1/18|   East| Martha|Alexander|Home Theater| 60.0|     500.0|\n",
      "|   2/9/18|Central|Hermann|     Luis|  Television| 36.0|    1198.0|\n",
      "|   8/7/19|Central|Hermann|   Others| Video Games| 42.0|      58.5|\n",
      "|  7/12/18|   East| Martha|    Diana|Home Theater| 29.0|     500.0|\n",
      "|   7/4/19|   East| Martha|Alexander| Video Games| 62.0|      58.5|\n",
      "|  4/27/19|   East| Martha|    Diana|  Cell Phone| 96.0|     225.0|\n",
      "|  9/18/18|   East| Martha|   Others| Video Games| 16.0|      58.5|\n",
      "| 11/17/19|Central|Hermann|     Luis|Home Theater| 11.0|     500.0|\n",
      "|  12/4/19|Central|Hermann|     Luis|Home Theater| 94.0|     500.0|\n",
      "|  8/24/19|   West|Timothy|  Stephen|        Desk|  3.0|     125.0|\n",
      "|  9/10/19|Central|Timothy|    David|  Television|  7.0|    1198.0|\n",
      "|   1/6/18|   East| Martha|Alexander|  Television| 95.0|    1198.0|\n",
      "|  5/22/18|   West|Douglas|  Michael|  Television| 32.0|    1198.0|\n",
      "|   2/1/19|Central| Others|     John|Home Theater| 87.0|     500.0|\n",
      "|  9/27/19|   West|Timothy|  Stephen|  Cell Phone| 76.0|     225.0|\n",
      "|  7/29/18|   East|Douglas|    Karen|Home Theater| 81.0|     500.0|\n",
      "+---------+-------+-------+---------+------------+-----+----------+\n",
      "only showing top 20 rows\n",
      "\n"
     ]
    }
   ],
   "source": [
    "original_count = df_pyspark.count()\n",
    "# Drop duplicates\n",
    "df_pyspark = df_pyspark.dropDuplicates()\n",
    "deduplicated_count = df_pyspark.count()\n",
    "duplicates_present = original_count != deduplicated_count\n",
    "if duplicates_present:\n",
    "    print(\"Duplicates were present.Removed Duplicates\")\n",
    "else:\n",
    "    print(\"No duplicates found.\")\n",
    "df_pyspark.show()"
   ]
  },
  {
   "cell_type": "code",
   "execution_count": 9,
   "id": "d929a88b-8e66-48a7-89b2-07b12969154e",
   "metadata": {},
   "outputs": [
    {
     "name": "stdout",
     "output_type": "stream",
     "text": [
      "+------------+------------------+\n",
      "|        Item|Total_sales_amount|\n",
      "+------------+------------------+\n",
      "|        Desk|            1250.0|\n",
      "| Video Games|           23107.5|\n",
      "|  Television|          857768.0|\n",
      "|  Cell Phone|           62550.0|\n",
      "|Home Theater|          404500.0|\n",
      "+------------+------------------+\n",
      "\n"
     ]
    }
   ],
   "source": [
    "from pyspark.sql.functions import col, sum\n",
    "df_with_sales_amount = df_pyspark.withColumn(\"Total_sales_amount\", col(\"Units\") * col(\"Unit_price\"))\n",
    "total_sales_per_product = df_with_sales_amount.groupBy(\"Item\") \\\n",
    "    .agg(sum(\"Total_sales_amount\").alias(\"Total_sales_amount\"))\n",
    "\n",
    "# Show the result\n",
    "total_sales_per_product.show()"
   ]
  },
  {
   "cell_type": "code",
   "execution_count": null,
   "id": "85c40085",
   "metadata": {},
   "outputs": [],
   "source": [
    "# Output the results to a new CSV file\n",
    "output_file_path = \"total_sales_per_product.csv\"\n",
    "total_sales_per_product.write.csv(output_file_path, mode=\"overwrite\", header=True)"
   ]
  }
 ],
 "metadata": {
  "kernelspec": {
   "display_name": "Python 3 (ipykernel)",
   "language": "python",
   "name": "python3"
  },
  "language_info": {
   "codemirror_mode": {
    "name": "ipython",
    "version": 3
   },
   "file_extension": ".py",
   "mimetype": "text/x-python",
   "name": "python",
   "nbconvert_exporter": "python",
   "pygments_lexer": "ipython3",
   "version": "3.10.9"
  }
 },
 "nbformat": 4,
 "nbformat_minor": 5
}
